{
 "cells": [
  {
   "cell_type": "markdown",
   "metadata": {},
   "source": [
    "# **Assigment 5 - SPARQL Queries**\n",
    "\n",
    "### Lucía Martín Fernández"
   ]
  },
  {
   "cell_type": "markdown",
   "metadata": {},
   "source": [
    "Configuration of the UNIPROT endpoint"
   ]
  },
  {
   "cell_type": "code",
   "execution_count": 1,
   "metadata": {
    "vscode": {
     "languageId": "python"
    }
   },
   "outputs": [
    {
     "data": {
      "text/html": [
       "<div class=\"krn-spql\"><div class=\"magic\">Endpoint set to: https://sparql.uniprot.org/sparql</div><div class=\"magic\">Request format: JSON</div></div>"
      ],
      "text/plain": [
       "Endpoint set to: https://sparql.uniprot.org/sparql\n",
       "Request format: JSON\n"
      ]
     },
     "metadata": {},
     "output_type": "display_data"
    }
   ],
   "source": [
    "%endpoint https://sparql.uniprot.org/sparql\n",
    "%format JSON"
   ]
  },
  {
   "attachments": {},
   "cell_type": "markdown",
   "metadata": {},
   "source": [
    "UniProt's documentation: https://sparql.uniprot.org/uniprot and help: https://sparql.uniprot.org/.well-known/sparql-examples/?offset=15"
   ]
  },
  {
   "cell_type": "markdown",
   "metadata": {},
   "source": [
    "**Q1 :** How many protein records are in UniProt?"
   ]
  },
  {
   "cell_type": "code",
   "execution_count": 2,
   "metadata": {
    "vscode": {
     "languageId": "python"
    }
   },
   "outputs": [
    {
     "data": {
      "text/html": [
       "<div class=\"krn-spql\"><table><tr class=hdr><th>countprot</th></tr><tr class=odd><td class=val>378979161</td></tr></table><div class=\"tinfo\">Total: 1, Shown: 1</div></div>"
      ]
     },
     "metadata": {},
     "output_type": "display_data"
    }
   ],
   "source": [
    "PREFIX up: <http://purl.uniprot.org/core/>\n",
    "\n",
    "SELECT (COUNT(?prot) as ?countprot) \n",
    "\n",
    "WHERE {\n",
    "\n",
    "    ?prot a up:Protein\n",
    "    \n",
    "}"
   ]
  },
  {
   "cell_type": "markdown",
   "metadata": {},
   "source": [
    "**Q2 :** How many Arabidopsis thaliana protein records are in UniProt?"
   ]
  },
  {
   "cell_type": "code",
   "execution_count": 3,
   "metadata": {
    "vscode": {
     "languageId": "python"
    }
   },
   "outputs": [
    {
     "data": {
      "text/html": [
       "<div class=\"krn-spql\"><table><tr class=hdr><th>count_araprot</th></tr><tr class=odd><td class=val>136447</td></tr></table><div class=\"tinfo\">Total: 1, Shown: 1</div></div>"
      ]
     },
     "metadata": {},
     "output_type": "display_data"
    }
   ],
   "source": [
    "PREFIX up: <http://purl.uniprot.org/core/>\n",
    "PREFIX up_taxonomy: <http://purl.uniprot.org/taxonomy/>\n",
    "\n",
    "SELECT (COUNT( DISTINCT ?prot) as ?count_araprot) \n",
    "\n",
    "WHERE {\n",
    "\n",
    "    ?prot a up:Protein ;\n",
    "          up:organism up_taxonomy:3702 . # Arabidopsis thaliana id = 3702\n",
    "          \n",
    "} "
   ]
  },
  {
   "cell_type": "markdown",
   "metadata": {},
   "source": [
    "**Q3 :** Retrieve pictures of Arabidopsis thaliana from UniProt"
   ]
  },
  {
   "cell_type": "code",
   "execution_count": 4,
   "metadata": {
    "vscode": {
     "languageId": "python"
    }
   },
   "outputs": [
    {
     "data": {
      "text/html": [
       "<div class=\"krn-spql\"><table><tr class=hdr><th>image</th></tr><tr class=odd><td class=val><a href=\"https://upload.wikimedia.org/wikipedia/commons/3/39/Arabidopsis.jpg\" target=\"_other\">https://upload.wikimedia.org/wikipedia/commons/3/39/Arabidopsis.jpg</a></td></tr><tr class=even><td class=val><a href=\"https://upload.wikimedia.org/wikipedia/commons/thumb/6/60/Arabidopsis_thaliana_inflorescencias.jpg/800px-Arabidopsis_thaliana_inflorescencias.jpg\" target=\"_other\">https://upload.wikimedia.org/wikipedia/commons/thumb/6/60/Arabidopsis_thaliana_inflorescencias.jpg/800px-Arabidopsis_thaliana_inflorescencias.jpg</a></td></tr></table><div class=\"tinfo\">Total: 2, Shown: 2</div></div>"
      ]
     },
     "metadata": {},
     "output_type": "display_data"
    }
   ],
   "source": [
    "PREFIX up: <http://purl.uniprot.org/core/>\n",
    "PREFIX up_taxonomy: <http://purl.uniprot.org/taxonomy/>\n",
    "PREFIX foaf: <http://xmlns.com/foaf/0.1/>\n",
    "\n",
    "SELECT ?image\n",
    "\n",
    "WHERE {\n",
    "\n",
    "  up_taxonomy:3702 foaf:depiction ?image .\n",
    "  ?image a foaf:Image .\n",
    "  \n",
    "}"
   ]
  },
  {
   "cell_type": "markdown",
   "metadata": {},
   "source": [
    "**Q4 :** What is the description of the enzyme activity of UniProt Protein Q9SZZ8"
   ]
  },
  {
   "cell_type": "code",
   "execution_count": 12,
   "metadata": {
    "vscode": {
     "languageId": "python"
    }
   },
   "outputs": [
    {
     "data": {
      "text/html": [
       "<div class=\"krn-spql\"><table><tr class=hdr><th>activity_description</th></tr><tr class=odd><td class=val>all-trans-beta-carotene + 4 H(+) + 2 O2 + 4 reduced [2Fe-2S]-[ferredoxin] = all-trans-zeaxanthin + 2 H2O + 4 oxidized [2Fe-2S]-[ferredoxin].</td></tr></table><div class=\"tinfo\">Total: 1, Shown: 1</div></div>"
      ]
     },
     "metadata": {},
     "output_type": "display_data"
    }
   ],
   "source": [
    "PREFIX up: <http://purl.uniprot.org/core/>\n",
    "PREFIX uniprot: <http://purl.uniprot.org/uniprot/>\n",
    "\n",
    "\n",
    "SELECT ?activity_description\n",
    "\n",
    "WHERE {\n",
    "\n",
    "    uniprot:Q9SZZ8 up:enzyme ?enzyme .\n",
    "    ?enzyme up:activity ?activity .\n",
    "    ?activity rdfs:label ?activity_description .\n",
    "    \n",
    "} "
   ]
  },
  {
   "attachments": {},
   "cell_type": "markdown",
   "metadata": {},
   "source": [
    "**Q5 :** Retrieve the proteins ids, and date of submission, for 5 proteins that have been added to UniProt this year"
   ]
  },
  {
   "cell_type": "code",
   "execution_count": 9,
   "metadata": {
    "vscode": {
     "languageId": "python"
    }
   },
   "outputs": [
    {
     "data": {
      "text/html": [
       "<div class=\"krn-spql\"><table><tr class=hdr><th>prot_id</th>\n",
       "<th>date</th></tr><tr class=odd><td class=val>A0A8E0N8L5</td>\n",
       "<td class=val>2022-01-19</td></tr><tr class=even><td class=val>A0A8F9CQZ7</td>\n",
       "<td class=val>2022-01-19</td></tr><tr class=odd><td class=val>A0A8F9ICG9</td>\n",
       "<td class=val>2022-01-19</td></tr><tr class=even><td class=val>A0A8F8WH98</td>\n",
       "<td class=val>2022-01-19</td></tr><tr class=odd><td class=val>A0A8F9NZK3</td>\n",
       "<td class=val>2022-01-19</td></tr></table><div class=\"tinfo\">Total: 5, Shown: 5</div></div>"
      ]
     },
     "metadata": {},
     "output_type": "display_data"
    }
   ],
   "source": [
    "PREFIX up: <http://purl.uniprot.org/core/>\n",
    "\n",
    "SELECT ?prot_id ?date\n",
    "\n",
    "WHERE {\n",
    "    \n",
    "    ?prot a up:Protein ;\n",
    "          up:created ?date .\n",
    "\n",
    "    FILTER (?date > \"2022-01-01\"^^xsd:date) # there were no entries for 2023\n",
    "    #BIND(SUBSTR(STR(?prot),33) AS ?prot_id)\n",
    "    BIND(REPLACE(STR(?prot), \"http://purl.uniprot.org/uniprot/\", \"\") AS ?prot_id)\n",
    "    \n",
    "} LIMIT 5"
   ]
  },
  {
   "cell_type": "markdown",
   "metadata": {},
   "source": [
    "**Q6 :** How many species are in the UniProt taxonomy?"
   ]
  },
  {
   "cell_type": "code",
   "execution_count": 11,
   "metadata": {
    "vscode": {
     "languageId": "python"
    }
   },
   "outputs": [
    {
     "data": {
      "text/html": [
       "<div class=\"krn-spql\"><table><tr class=hdr><th>count_species</th></tr><tr class=odd><td class=val>1995728</td></tr></table><div class=\"tinfo\">Total: 1, Shown: 1</div></div>"
      ]
     },
     "metadata": {},
     "output_type": "display_data"
    }
   ],
   "source": [
    "PREFIX up: <http://purl.uniprot.org/core/>\n",
    "PREFIX up_taxonomy: <http://purl.uniprot.org/taxonomy/>\n",
    "\n",
    "SELECT (COUNT( DISTINCT ?species) as ?count_species) \n",
    "\n",
    "WHERE {\n",
    "\n",
    "    ?species a up:Taxon ; \n",
    "             up:rank up:Species .\n",
    "             \n",
    "}"
   ]
  },
  {
   "cell_type": "markdown",
   "metadata": {},
   "source": [
    "**Q7 :** How many species have at least one protein record? (takes a while to excute, do it last)"
   ]
  },
  {
   "cell_type": "code",
   "execution_count": 12,
   "metadata": {
    "vscode": {
     "languageId": "python"
    }
   },
   "outputs": [],
   "source": [
    "PREFIX up: <http://purl.uniprot.org/core/>\n",
    "PREFIX up_taxonomy: <http://purl.uniprot.org/taxonomy/>\n",
    "\n",
    "SELECT (COUNT( DISTINCT ?prot_species) as ?count_species) \n",
    "\n",
    "WHERE {\n",
    "    \n",
    "    ?prot a up:Protein ; \n",
    "          up:organism ?prot_species .\n",
    "\n",
    "    ?prot_species up:rank up:Species . \n",
    "\n",
    "}"
   ]
  },
  {
   "cell_type": "markdown",
   "metadata": {},
   "source": [
    "**Q8 :** Find the AGI codies and gene names for all Arabidopsis thaliana proteins that have a protein function annotation description that mentions \"pattern formation\""
   ]
  },
  {
   "cell_type": "code",
   "execution_count": 16,
   "metadata": {
    "vscode": {
     "languageId": "python"
    }
   },
   "outputs": [
    {
     "data": {
      "text/html": [
       "<div class=\"krn-spql\"><table><tr class=hdr><th>gene_name</th>\n",
       "<th>locus_code</th></tr><tr class=odd><td class=val>GN</td>\n",
       "<td class=val>At1g13980</td></tr><tr class=even><td class=val>RPK2</td>\n",
       "<td class=val>At3g02130</td></tr><tr class=odd><td class=val>RPK1</td>\n",
       "<td class=val>At1g69270</td></tr><tr class=even><td class=val>RSL1</td>\n",
       "<td class=val>At5g37800</td></tr><tr class=odd><td class=val>CUL3A</td>\n",
       "<td class=val>At1g26830</td></tr><tr class=even><td class=val>RHD6</td>\n",
       "<td class=val>At1g66470</td></tr><tr class=odd><td class=val>DEX1</td>\n",
       "<td class=val>At3g09090</td></tr><tr class=even><td class=val>IAMT1</td>\n",
       "<td class=val>At5g55250</td></tr><tr class=odd><td class=val>YDA</td>\n",
       "<td class=val>At1g63700</td></tr><tr class=even><td class=val>ATML1</td>\n",
       "<td class=val>At4g21750</td></tr><tr class=odd><td class=val>CUL3B</td>\n",
       "<td class=val>At1g69670</td></tr><tr class=even><td class=val>ROPGEF7</td>\n",
       "<td class=val>At5g02010</td></tr><tr class=odd><td class=val>SHR</td>\n",
       "<td class=val>At4g37650</td></tr><tr class=even><td class=val>SCR</td>\n",
       "<td class=val>At3g54220</td></tr><tr class=odd><td class=val>ROPGAP3</td>\n",
       "<td class=val>At2g46710</td></tr><tr class=even><td class=val>TTL3</td>\n",
       "<td class=val>At2g42580</td></tr><tr class=odd><td class=val>SWEET8</td>\n",
       "<td class=val>At5g40260</td></tr></table><div class=\"tinfo\">Total: 17, Shown: 17</div></div>"
      ]
     },
     "metadata": {},
     "output_type": "display_data"
    }
   ],
   "source": [
    "PREFIX up: <http://purl.uniprot.org/core/>\n",
    "PREFIX up_taxonomy: <http://purl.uniprot.org/taxonomy/>\n",
    "\n",
    "\n",
    "SELECT ?gene_name ?locus_code\n",
    "\n",
    "WHERE {\n",
    "    \n",
    "    ?prot a up:Protein ;\n",
    "          up:organism up_taxonomy:3702 ;\n",
    "          up:encodedBy ?gene ;\n",
    "          up:annotation ?annotation .\n",
    "    \n",
    "    ?gene a up:Gene ;\n",
    "          up:locusName ?locus_code ; \n",
    "          skos:prefLabel ?gene_name .\n",
    "\n",
    "    ?annotation a up:Function_Annotation ;\n",
    "                rdfs:comment ?annotation_description .\n",
    "\n",
    "    FILTER REGEX (?annotation_description, \"pattern formation\", \"i\") \n",
    "\n",
    "}"
   ]
  },
  {
   "attachments": {},
   "cell_type": "markdown",
   "metadata": {},
   "source": [
    "## From the MetaNetX metabolic networks for metagenomics database\n",
    "SPARQL Endpoint: https://rdf.metanetx.org/sparql\n",
    "\n",
    "Documentation: \n",
    "https://www.metanetx.org/cgi-bin/mnxget/mnxref/MetaNetX_RDF_schema.pdf)"
   ]
  },
  {
   "cell_type": "code",
   "execution_count": 9,
   "metadata": {
    "vscode": {
     "languageId": "python"
    }
   },
   "outputs": [
    {
     "data": {
      "text/html": [
       "<div class=\"krn-spql\"><div class=\"magic\">Endpoint set to: https://rdf.metanetx.org/sparql</div><div class=\"magic\">Request format: JSON</div></div>"
      ],
      "text/plain": [
       "Endpoint set to: https://rdf.metanetx.org/sparql\n",
       "Request format: JSON\n"
      ]
     },
     "metadata": {},
     "output_type": "display_data"
    }
   ],
   "source": [
    "%endpoint https://rdf.metanetx.org/sparql\n",
    "%format JSON"
   ]
  },
  {
   "cell_type": "markdown",
   "metadata": {},
   "source": [
    "**Q9 :** what is the MetaNetX Reaction identifier (starts with \"mnxr\") for the UniProt Protein *uniprot:Q18A79*"
   ]
  },
  {
   "cell_type": "code",
   "execution_count": 24,
   "metadata": {
    "vscode": {
     "languageId": "python"
    }
   },
   "outputs": [
    {
     "data": {
      "text/html": [
       "<div class=\"krn-spql\"><table><tr class=hdr><th>reaction_id</th></tr><tr class=odd><td class=val>MNXR165934</td></tr><tr class=even><td class=val>MNXR145046</td></tr></table><div class=\"tinfo\">Total: 2, Shown: 2</div></div>"
      ]
     },
     "metadata": {},
     "output_type": "display_data"
    }
   ],
   "source": [
    "PREFIX mnx: <https://rdf.metanetx.org/schema/>\n",
    "PREFIX uniprot: <http://purl.uniprot.org/uniprot/>\n",
    "\n",
    "\n",
    "SELECT DISTINCT ?reaction_id \n",
    "\n",
    "WHERE {\n",
    "\n",
    "    ?metabolic_net a mnx:MNET ;\n",
    "                   mnx:gpr ?gene_prot_reaction ;\n",
    "                   rdfs:label ?met_id .\n",
    "                   \n",
    "    \n",
    "    ?gene_prot_reaction mnx:cata ?cata ;\n",
    "                        mnx:reac ?reaction .\n",
    "\n",
    "    ?reaction mnx:mnxr ?mnxr .\n",
    "    ?mnxr rdfs:label ?reaction_id .\n",
    "\n",
    "    ?cata mnx:pept ?prot .\n",
    "    \n",
    "    ?prot mnx:peptXref uniprot:Q18A79 .\n",
    "    \n",
    "} "
   ]
  },
  {
   "cell_type": "markdown",
   "metadata": {},
   "source": [
    "## FEDERATED QUERY - UniProt and MetaNetX"
   ]
  },
  {
   "attachments": {},
   "cell_type": "markdown",
   "metadata": {},
   "source": [
    "**Q10 :** What is the official locus name, and the MetaNetX Reaction identifier (mnxr.....) for the protein that has “glycine reductase” catalytic activity in Clostridium difficile (taxon 272563)."
   ]
  },
  {
   "cell_type": "code",
   "execution_count": null,
   "metadata": {
    "vscode": {
     "languageId": "python"
    }
   },
   "outputs": [],
   "source": [
    "%endpoint https://rdf.metanetx.org/sparql\n",
    "%format JSON"
   ]
  },
  {
   "cell_type": "code",
   "execution_count": 34,
   "metadata": {
    "vscode": {
     "languageId": "python"
    }
   },
   "outputs": [
    {
     "data": {
      "text/html": [
       "<div class=\"krn-spql\"><div class=\"magic\">Endpoint set to: https://rdf.metanetx.org/sparql</div><div class=\"magic\">Request format: JSON</div></div>"
      ],
      "text/plain": [
       "Endpoint set to: https://rdf.metanetx.org/sparql\n",
       "Request format: JSON\n"
      ]
     },
     "metadata": {},
     "output_type": "display_data"
    },
    {
     "data": {
      "text/html": [
       "<div class=\"krn-spql\"><table><tr class=hdr><th>reaction_id</th>\n",
       "<th>locus_code</th></tr><tr class=odd><td class=val>MNXR162774</td>\n",
       "<td class=val>CD630_23490</td></tr><tr class=even><td class=val>MNXR157884</td>\n",
       "<td class=val>CD630_23490</td></tr><tr class=odd><td class=val>MNXR162774</td>\n",
       "<td class=val>CD630_23510</td></tr><tr class=even><td class=val>MNXR157884</td>\n",
       "<td class=val>CD630_23510</td></tr><tr class=odd><td class=val>MNXR162774</td>\n",
       "<td class=val>CD630_23520</td></tr><tr class=even><td class=val>MNXR157884</td>\n",
       "<td class=val>CD630_23520</td></tr><tr class=odd><td class=val>MNXR157884</td>\n",
       "<td class=val>CD630_23540</td></tr><tr class=even><td class=val>MNXR162774</td>\n",
       "<td class=val>CD630_23480</td></tr><tr class=odd><td class=val>MNXR157884</td>\n",
       "<td class=val>CD630_23480</td></tr></table><div class=\"tinfo\">Total: 9, Shown: 9</div></div>"
      ]
     },
     "metadata": {},
     "output_type": "display_data"
    }
   ],
   "source": [
    "PREFIX mnx: <https://rdf.metanetx.org/schema/>\n",
    "PREFIX up_taxonomy: <http://purl.uniprot.org/taxonomy/>\n",
    "PREFIX up: <http://purl.uniprot.org/core/>\n",
    "PREFIX go: <http://purl.obolibrary.org/obo/GO_>\n",
    "\n",
    "\n",
    "SELECT DISTINCT ?reaction_id ?locus_code\n",
    "\n",
    "WHERE {\n",
    "\n",
    "      SERVICE <http://sparql.uniprot.org/sparql> {\n",
    "\n",
    "            SELECT ?protein ?locus_code\n",
    "\n",
    "            WHERE {\n",
    "\n",
    "                  ?protein a up:Protein ;\n",
    "                  up:organism up_taxonomy:272563 ; # Clostridium difficile taxon id\n",
    "                  up:encodedBy ?gene ;\n",
    "                  up:classifiedWith go:0030699  . # go:0030699 go term for the glycine reductase activity\n",
    "                  \n",
    "                  ?gene a up:Gene ;\n",
    "                        up:locusName ?locus_code .\n",
    "                        \n",
    "            }\n",
    "\n",
    "      }\n",
    "\n",
    "      SERVICE <https://rdf.metanetx.org/sparql> {\n",
    "\n",
    "            SELECT ?reaction_id ?protein\n",
    "\n",
    "            WHERE {\n",
    "\n",
    "                  ?metabolic_net a mnx:MNET ;\n",
    "                                 mnx:gpr ?gene_prot_reaction ;\n",
    "                                 rdfs:label ?met_id .\n",
    "                   \n",
    "    \n",
    "                  ?gene_prot_reaction mnx:cata ?cata ;\n",
    "                                      mnx:reac ?reaction .\n",
    "\n",
    "                  ?reaction mnx:mnxr ?mnxr .\n",
    "                  ?mnxr rdfs:label ?reaction_id .\n",
    "\n",
    "                  ?cata mnx:pept ?prot .\n",
    "\n",
    "                  ?prot mnx:peptXref ?protein .\n",
    "\n",
    "            }\n",
    "\n",
    "      }\n",
    "\n",
    "      } "
   ]
  }
 ],
 "metadata": {
  "kernelspec": {
   "display_name": "SPARQL",
   "language": "sparql",
   "name": "sparql"
  },
  "language_info": {
   "codemirror_mode": {
    "name": "sparql"
   },
   "mimetype": "application/sparql-query",
   "name": "sparql",
   "pygments_lexer": "sparql-nb"
  },
  "vscode": {
   "interpreter": {
    "hash": "414a3df10efedd2ca7794e1504688e5faca79acfff020c7af639b4ac9bd92b2b"
   }
  }
 },
 "nbformat": 4,
 "nbformat_minor": 2
}
